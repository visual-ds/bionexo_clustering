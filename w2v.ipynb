{
 "cells": [
  {
   "cell_type": "code",
   "execution_count": 6,
   "metadata": {},
   "outputs": [],
   "source": [
    "import utils\n",
    "import pandas as pd\n",
    "from time import time\n",
    "from collections import defaultdict\n",
    "import spacy\n",
    "import gensim.models.keyedvectors as word2vec\n",
    "import numpy as np\n"
   ]
  },
  {
   "cell_type": "code",
   "execution_count": 23,
   "metadata": {},
   "outputs": [],
   "source": [
    "#initial params\n",
    "model_path = './word_emb/model_100.bin'\n",
    "vec_dim = 100\n",
    "vectors_name_to_save = 'w2v_vectors'\n",
    "dataset_file = './dataset/data_preprocessed.csv'\n",
    "csv_column_name = 'descricao'"
   ]
  },
  {
   "cell_type": "code",
   "execution_count": 10,
   "metadata": {},
   "outputs": [
    {
     "data": {
      "text/plain": [
       "(201182, 3)"
      ]
     },
     "metadata": {},
     "output_type": "display_data"
    },
    {
     "data": {
      "text/html": [
       "<div>\n",
       "<style scoped>\n",
       "    .dataframe tbody tr th:only-of-type {\n",
       "        vertical-align: middle;\n",
       "    }\n",
       "\n",
       "    .dataframe tbody tr th {\n",
       "        vertical-align: top;\n",
       "    }\n",
       "\n",
       "    .dataframe thead th {\n",
       "        text-align: right;\n",
       "    }\n",
       "</style>\n",
       "<table border=\"1\" class=\"dataframe\">\n",
       "  <thead>\n",
       "    <tr style=\"text-align: right;\">\n",
       "      <th></th>\n",
       "      <th>ID_PDC</th>\n",
       "      <th>descricao</th>\n",
       "      <th>GMDN_TERMO</th>\n",
       "    </tr>\n",
       "  </thead>\n",
       "  <tbody>\n",
       "    <tr>\n",
       "      <th>0</th>\n",
       "      <td>174274</td>\n",
       "      <td>HISTERECTOMIA TOTAL LAPAROSCOPICA COM ANEXECTO...</td>\n",
       "      <td>uterine manipulator, single-use</td>\n",
       "    </tr>\n",
       "    <tr>\n",
       "      <th>1</th>\n",
       "      <td>176721</td>\n",
       "      <td>LESÃO  AGUDA DE LIGAMENTO COLATERAL DO JOELHO...</td>\n",
       "      <td>bone matrix implant, synthetic</td>\n",
       "    </tr>\n",
       "    <tr>\n",
       "      <th>2</th>\n",
       "      <td>181909</td>\n",
       "      <td>EMBOLIZAÃÃO DE ANEURISMA CEREBRAL POR OCLUSÃ...</td>\n",
       "      <td>vascular catheter introduction set</td>\n",
       "    </tr>\n",
       "    <tr>\n",
       "      <th>3</th>\n",
       "      <td>183381</td>\n",
       "      <td>PANCREATO-DUODENECTOMIA COM LINFADENECTOMIA [ ...</td>\n",
       "      <td>-</td>\n",
       "    </tr>\n",
       "    <tr>\n",
       "      <th>4</th>\n",
       "      <td>183381</td>\n",
       "      <td>PANCREATO-DUODENECTOMIA COM LINFADENECTOMIA [ ...</td>\n",
       "      <td>-</td>\n",
       "    </tr>\n",
       "  </tbody>\n",
       "</table>\n",
       "</div>"
      ],
      "text/plain": [
       "   ID_PDC                                          descricao  \\\n",
       "0  174274  HISTERECTOMIA TOTAL LAPAROSCOPICA COM ANEXECTO...   \n",
       "1  176721  LESÃO  AGUDA DE LIGAMENTO COLATERAL DO JOELHO...   \n",
       "2  181909  EMBOLIZAÃÃO DE ANEURISMA CEREBRAL POR OCLUSÃ...   \n",
       "3  183381  PANCREATO-DUODENECTOMIA COM LINFADENECTOMIA [ ...   \n",
       "4  183381  PANCREATO-DUODENECTOMIA COM LINFADENECTOMIA [ ...   \n",
       "\n",
       "                           GMDN_TERMO  \n",
       "0     uterine manipulator, single-use  \n",
       "1      bone matrix implant, synthetic  \n",
       "2  vascular catheter introduction set  \n",
       "3                                   -  \n",
       "4                                   -  "
      ]
     },
     "execution_count": 10,
     "metadata": {},
     "output_type": "execute_result"
    }
   ],
   "source": [
    "#read the csv\n",
    "df = pd.read_csv(dataset_file, encoding = 'latin')\n",
    "display(df.shape)\n",
    "df.head()"
   ]
  },
  {
   "cell_type": "code",
   "execution_count": 11,
   "metadata": {},
   "outputs": [],
   "source": [
    "#set spacy model and add stop words\n",
    "nlp = spacy.load('pt', disable=['ner', 'parser']) # disabling Named Entity Recognition for speed\n",
    "customize_stop_words = ['cm', 'i', 'm', 'x', 'ml', 'mm', 'mmx', 'g', 'u','c', 'cc','l']\n",
    "for w in customize_stop_words:\n",
    "    nlp.vocab[w].is_stop = True"
   ]
  },
  {
   "cell_type": "code",
   "execution_count": 16,
   "metadata": {},
   "outputs": [
    {
     "name": "stdout",
     "output_type": "stream",
     "text": [
      "Time to clean up everything: 4.77 mins\n"
     ]
    }
   ],
   "source": [
    "#preprocess and clean text in column target\n",
    "t = time()\n",
    "cleaned = utils.get_clean_list_docs(nlp, df, csv_column_name)\n",
    "print('Time to clean up everything: {} mins'.format(round((time() - t) / 60, 2)))"
   ]
  },
  {
   "cell_type": "code",
   "execution_count": 17,
   "metadata": {},
   "outputs": [],
   "source": [
    "cleaned = [' '.join(e) for e in cleaned]\n",
    "df['preprocess'] = cleaned"
   ]
  },
  {
   "cell_type": "code",
   "execution_count": 24,
   "metadata": {},
   "outputs": [
    {
     "name": "stdout",
     "output_type": "stream",
     "text": [
      "Time to create vectors: 0.52 mins\n"
     ]
    }
   ],
   "source": [
    "#load word2vec model trained and generate a vector for each row in csv\n",
    "embed_map = word2vec.KeyedVectors.load_word2vec_format(model_path, binary=True, unicode_errors='ignore')\n",
    "vectors_des = []\n",
    "t = time()\n",
    "for i in range(df.shape[0]):\n",
    "    vector_des = utils.doc_to_sum_vector(df.loc[i]['preprocess'], embed_map, vec_dim)\n",
    "    vectors_des.append(vector_des)\n",
    "\n",
    "vectors_des = np.asarray(vectors_des)\n",
    "\n",
    "print('Time to create vectors: {} mins'.format(round((time() - t) / 60, 2)))\n",
    "\n",
    "#save the vectors in file\n",
    "np.save(vectors_name_to_save, vectors_des)"
   ]
  }
 ],
 "metadata": {
  "kernelspec": {
   "display_name": "Python 3",
   "language": "python",
   "name": "python3"
  },
  "language_info": {
   "codemirror_mode": {
    "name": "ipython",
    "version": 3
   },
   "file_extension": ".py",
   "mimetype": "text/x-python",
   "name": "python",
   "nbconvert_exporter": "python",
   "pygments_lexer": "ipython3",
   "version": "3.6.7"
  }
 },
 "nbformat": 4,
 "nbformat_minor": 2
}
